{
 "cells": [
  {
   "cell_type": "code",
   "execution_count": 3,
   "metadata": {},
   "outputs": [],
   "source": [
    "from nltk import tokenize\n",
    "import numpy as np\n",
    "import random\n",
    "import pandas as pd"
   ]
  },
  {
   "cell_type": "code",
   "execution_count": 4,
   "metadata": {},
   "outputs": [],
   "source": [
    "def split_text(filepath, min_char):\n",
    "    \n",
    "    # Load data into string variable and remove new line characters\n",
    "    file = open(filepath, \"r\", encoding=\"utf8\")\n",
    "    text = file.read().replace('\\n', ' ')\n",
    "    text = text.replace('.”', '”.').replace('.\"', '\".').replace('?”', '”?').replace('!”', '”!')\n",
    "    text = text.replace('--', ' ').replace('. . .', '').replace('_', '')\n",
    "    file.close()\n",
    "    \n",
    "    # Split text into a list of sentences\n",
    "    sentences = tokenize.sent_tokenize(text)\n",
    "    \n",
    "    # Remove sentences that are less than min_char long\n",
    "    sentences = [sent for sent in sentences if len(sent) >= min_char]\n",
    "\n",
    "    return list(sentences)"
   ]
  },
  {
   "cell_type": "code",
   "execution_count": 5,
   "metadata": {},
   "outputs": [],
   "source": [
    "# Set parameter values\n",
    "min_char = 5\n",
    "\n",
    "# Create lists\n",
    "dickens = split_text('bis/A_Tale_of_Two_Cities.txt', min_char = min_char)\\\n",
    "         +split_text('bis/Great_Expectations.txt', min_char = min_char)\n",
    "montgomery = split_text('bis/Anne_of_Avonlea.txt', min_char = min_char)\\\n",
    "         + split_text('bis/Anne_of_Green_Gables.txt', min_char = min_char)\n",
    "stoker = split_text('bis/Dracula.txt', min_char = min_char)\n",
    "austen = split_text('bis/Emma.txt', min_char = min_char)\\\n",
    "        +split_text('bis/Pride_and_Prejudice.txt', min_char = min_char)\\\n",
    "        +split_text('bis/Sense_and_Sensibility.txt', min_char = min_char)\n",
    "grimm = split_text('bis/Grimms_Fairy Tales.txt', min_char = min_char)\n",
    "swift = split_text('bis/Gullivers_Travels.txt', min_char = min_char)\n",
    "thatcher = split_text('bis/Hard_Times.txt', min_char = min_char)\n",
    "twain = split_text('bis/Huckleberry_Finn.txt', min_char = min_char)\n",
    "malory = split_text('bis/Le_Morte_DArthur.txt', min_char = min_char)\n",
    "alcott = split_text('bis/Little_Women.txt', min_char = min_char)\n",
    "berens = split_text('bis/Myths_and_Legends_of_Ancient_Greece_and_Rome.txt', min_char = min_char)\n",
    "doyle =  split_text('bis/The_Adventures_of_Sherlock_Holmes.txt', min_char = min_char)\n",
    "augustine = split_text('bis/The_Confessions_of_Saint_Augustine.txt', min_char = min_char)\n",
    "thoreau = split_text('bis/Walden.txt', min_char = min_char)\n",
    "sinclair = split_text('bis/The_Jungle.txt', min_char = min_char)\n",
    "bronte = split_text('bis/Wuthering_Heights.txt', min_char = min_char)\n",
    "\n"
   ]
  },
  {
   "cell_type": "code",
   "execution_count": 6,
   "metadata": {},
   "outputs": [
    {
     "name": "stdout",
     "output_type": "stream",
     "text": [
      "Dickens : 17458\n",
      "Montgomery : 12274\n",
      "Stoker : 8641\n",
      "Austen : 19200\n",
      "Grimm : 2796\n",
      "Swift : 2840\n",
      "Thatcher : 4364\n",
      "Twain : 5839\n",
      "Malory : 5997\n",
      "Alcott : 9447\n",
      "Berens : 4432\n",
      "Doyle : 6475\n",
      "Augustine : 3670\n",
      "Thoreau : 4055\n",
      "Sinclair : 6636\n",
      "Bronte : 5262\n"
     ]
    }
   ],
   "source": [
    "# Print length of each list\n",
    "\n",
    "text_dict = {'Dickens': dickens, 'Montgomery': montgomery, 'Stoker': stoker, 'Austen': austen, 'Grimm': grimm,\n",
    "            'Swift': swift, 'Thatcher': thatcher, 'Twain': twain, 'Malory': malory, 'Alcott': alcott, 'Berens': berens, \n",
    "            'Doyle': doyle, 'Augustine': augustine, 'Thoreau': thoreau, 'Sinclair' : sinclair, 'Bronte' : bronte}\n",
    "\n",
    "for key in text_dict.keys():\n",
    "    print(key, ':', len(text_dict[key]))"
   ]
  },
  {
   "cell_type": "code",
   "execution_count": 7,
   "metadata": {},
   "outputs": [
    {
     "name": "stdout",
     "output_type": "stream",
     "text": [
      "The length of the combined list is: 52500\n"
     ]
    }
   ],
   "source": [
    "# Set random seed\n",
    "np.random.seed(1)\n",
    "\n",
    "# Set length parameter\n",
    "max_len = 3500\n",
    "\n",
    "# Select sentences\n",
    "names = [dickens, montgomery, stoker, austen, grimm, swift, thatcher, twain, malory, alcott, berens, doyle, augustine, sinclair, bronte]\n",
    "combined = []\n",
    "\n",
    "for name in names:\n",
    "    name = np.random.choice(name, max_len, replace = True)\n",
    "    combined += list(name)\n",
    "\n",
    "print('The length of the combined list is:', len(combined))"
   ]
  },
  {
   "cell_type": "code",
   "execution_count": 8,
   "metadata": {},
   "outputs": [
    {
     "name": "stdout",
     "output_type": "stream",
     "text": [
      "The length of the labels list is: 52500\n"
     ]
    }
   ],
   "source": [
    "labels = ['Dickens']*max_len + ['Montgomery']*max_len + ['Stoker']*max_len + ['Austen']*max_len\\\n",
    "         + ['Grimm']*max_len + ['Swift']*max_len + ['Thatcher']*max_len + ['Twain']*max_len\\\n",
    "         + ['Malory']*max_len + ['Alcott']*max_len + ['Berens']*max_len + ['Doyle']*max_len\\\n",
    "         + ['Augustine']*max_len + ['Sinclair']*max_len + ['Bronte']*max_len \n",
    "\n",
    "print('The length of the labels list is:', len(labels))"
   ]
  },
  {
   "cell_type": "code",
   "execution_count": 9,
   "metadata": {},
   "outputs": [],
   "source": [
    "# Set random seed\n",
    "random.seed(3)\n",
    "\n",
    "# Randomly shuffle data\n",
    "zipped = list(zip(combined, labels))\n",
    "random.shuffle(zipped)\n",
    "combined, labels = zip(*zipped)"
   ]
  },
  {
   "cell_type": "code",
   "execution_count": 10,
   "metadata": {},
   "outputs": [
    {
     "name": "stdout",
     "output_type": "stream",
     "text": [
      "                                                text  author\n",
      "0  She certainly had not been in the wrong, and h...  Austen\n",
      "1  Why did you speak to him, Edgar?’  ‘I didn’t,’...  Bronte\n",
      "2  \"Don't praise me, Meg, for I could box his ear...  Alcott\n",
      "3  And if I may win thee, yet shall thy lady be m...  Malory\n",
      "4  Mina and I fear to be idle, so we have been ov...  Stoker\n"
     ]
    }
   ],
   "source": [
    "# Create pandas dataframe\n",
    "out_data = pd.DataFrame()\n",
    "out_data['text'] = combined\n",
    "out_data['author'] = labels\n",
    "\n",
    "print(out_data.head())"
   ]
  },
  {
   "cell_type": "code",
   "execution_count": 11,
   "metadata": {},
   "outputs": [],
   "source": [
    "# Export as a csv file\n",
    "out_data.to_csv('author_data.csv', index=False)"
   ]
  },
  {
   "cell_type": "code",
   "execution_count": null,
   "metadata": {},
   "outputs": [],
   "source": []
  }
 ],
 "metadata": {
  "kernelspec": {
   "display_name": "Python 3",
   "language": "python",
   "name": "python3"
  },
  "language_info": {
   "codemirror_mode": {
    "name": "ipython",
    "version": 3
   },
   "file_extension": ".py",
   "mimetype": "text/x-python",
   "name": "python",
   "nbconvert_exporter": "python",
   "pygments_lexer": "ipython3",
   "version": "3.7.4"
  }
 },
 "nbformat": 4,
 "nbformat_minor": 2
}
